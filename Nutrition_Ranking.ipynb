{
 "cells": [
  {
   "cell_type": "markdown",
   "metadata": {},
   "source": [
    "### Imports"
   ]
  },
  {
   "cell_type": "code",
   "execution_count": 1,
   "metadata": {},
   "outputs": [],
   "source": [
    "import pandas as pd\n",
    "import requests"
   ]
  },
  {
   "cell_type": "markdown",
   "metadata": {},
   "source": [
    "### Parse JSON"
   ]
  },
  {
   "cell_type": "code",
   "execution_count": 2,
   "metadata": {},
   "outputs": [],
   "source": [
    "#You will need to use your own path + download from Slack, this needs to be updated to take in Christina and Orgil's work. \n",
    "#For now, we will just do local. \n",
    "\n",
    "PATH = '/Users/joshuadarcy/Desktop/'"
   ]
  },
  {
   "cell_type": "code",
   "execution_count": 3,
   "metadata": {},
   "outputs": [],
   "source": [
    "# this function uses Python native language to load the json file named \"data\"\n",
    "\n",
    "import json\n",
    "\n",
    "with open(PATH+'restaurant_data.json') as json_file:\n",
    "    data = json.load(json_file)"
   ]
  },
  {
   "cell_type": "markdown",
   "metadata": {},
   "source": [
    "### Function to call USDA for single item nutrition information (Currently -> cal, sugar, fat, carbs)"
   ]
  },
  {
   "cell_type": "code",
   "execution_count": 4,
   "metadata": {},
   "outputs": [],
   "source": [
    "#searching the USDA database based on an individual ingredient.\n",
    "#this function is used below. \n",
    "\n",
    "def nutri_search(menu_item):\n",
    "\n",
    "    #Set search parameters -- find the closest USDA entry that is similar to our ingredient. \n",
    "    \n",
    "    parameters1 = {\n",
    "        'api_key' : 'VaKxcy2ekEwepNcpBmsjNVLQanyrl7WwdacDS5B7',\n",
    "        'q' : '{}'.format(menu_item)\n",
    "    }\n",
    "    \n",
    "    # API call to file the ndbno (an index number that the USDA uses for nutrition information)\n",
    "\n",
    "    response = requests.get('https://api.nal.usda.gov/ndb/search/?format=json', params = parameters1)\n",
    "    JSON = response.json()\n",
    "    ndbno = JSON['list']['item'][0]['ndbno']\n",
    "\n",
    "    #Second set of parameters to call for nutrition information with our new ndbno\n",
    "    \n",
    "    parameters2 = {\n",
    "        'api_key' : 'VaKxcy2ekEwepNcpBmsjNVLQanyrl7WwdacDS5B7',\n",
    "        'nutrients':[\"204\",\"205\",\"208\",\"269\"], \n",
    "        'ndbno' : '{}'.format(ndbno)\n",
    "    }\n",
    "\n",
    "    # Second API call to get nutrition information. In order, we're getting calories, sugars, fats, and carbs\n",
    "    # !!! Let me know if you want other parameters. Options can be found in the USDA download (not the API) under\n",
    "    # nutrition.csv file\n",
    "    \n",
    "    response = requests.get('https://api.nal.usda.gov/ndb/nutrients/?format=json', params = parameters2)\n",
    "    JSON = response.json()\n",
    "\n",
    "    cal = JSON['report']['foods'][0]['nutrients'][0]['value']\n",
    "    sugars = JSON['report']['foods'][0]['nutrients'][1]['value']\n",
    "    fats = JSON['report']['foods'][0]['nutrients'][2]['value']\n",
    "    carbs = JSON['report']['foods'][0]['nutrients'][3]['value']\n",
    "    \n",
    "    return cal, sugars, fats, carbs"
   ]
  },
  {
   "cell_type": "markdown",
   "metadata": {},
   "source": [
    "### Search and return all estimated cal, sugars, fats, and carbs for each menu item given retaurant name. "
   ]
  },
  {
   "cell_type": "code",
   "execution_count": 7,
   "metadata": {},
   "outputs": [],
   "source": [
    "#First let's select which restaurant we want from the JSON file. Here I chose the first one in the JSON file (0)\n",
    "\n",
    "restaurant = data['Restaurants'][0]#<--- change this number for different restaurants, right now 0 or 1\n",
    "\n",
    "#Second we run it through a function that converts it to a python dictionary with nutrition info\n",
    "\n",
    "restaurant_dictionary_with_nutrition = create_restaurant_dictionary_from_JSON(restaurant)"
   ]
  },
  {
   "cell_type": "code",
   "execution_count": 6,
   "metadata": {},
   "outputs": [],
   "source": [
    "def create_restaurant_dictionary_from_JSON(restaurant): \n",
    "    \n",
    "    #take menu from JSON file\n",
    "    menu = restaurant['Menu']\n",
    "    #convert to Python-friendly dictionary\n",
    "    rest_dict= dict(menu)\n",
    "    #for each menu item, take an ingredient, call USDA for nutrition info, and add info to dictionary\n",
    "    for menu_item in list(rest_dict.keys()): \n",
    "        ingredients = rest_dict[menu_item]['ingredients']\n",
    "        rest_dict[menu_item]['nutrition'] = {}\n",
    "        for ingredient in ingredients:\n",
    "            rest_dict[menu_item]['nutrition'][ingredient] = {}\n",
    "            rest_dict[menu_item]['nutrition'][ingredient] = nutri_search(ingredient)\n",
    "    #return dictionary\n",
    "    return rest_dict"
   ]
  },
  {
   "cell_type": "markdown",
   "metadata": {},
   "source": [
    "### Nutrition information from return above -> Score it. (Sabrina) "
   ]
  },
  {
   "cell_type": "code",
   "execution_count": 15,
   "metadata": {},
   "outputs": [
    {
     "name": "stdout",
     "output_type": "stream",
     "text": [
      "Mary Ellen’s Chicken Salad\n",
      "{'Mixed greens': ('20', '1.00', '0.00', '3.99'), 'tuna': ('250', '4.00', '12.00', '16.00'), 'mayo': ('50', '0.63', '4.93', '1.27'), 'dill bread': ('28', '--', '0.00', '7.00')}\n"
     ]
    }
   ],
   "source": [
    "#I'll show an example of how to pull the calories, sugars, fats, and carbs from a menu item in dictionary above\n",
    "\n",
    "\n",
    "#Python doesn't allow for dictionary keys to be iterated unless you turn them into a list first\n",
    "#Take index 0 of the list we just created, which happens to be named ('Freddie's Egg Salad)\n",
    "item = list(restaurant_dictionary_with_nutrition.keys())[2] #<--- change this number for different menu items\n",
    "nutrition_info = restaurant_dictionary_with_nutrition[item]['nutrition']\n",
    "\n",
    "#find dictionary key \"nutrition\" for this item:\n",
    "#return is in order calories, sugars, fats, and carbs\n",
    "print(item)\n",
    "print(nutrition_info)"
   ]
  },
  {
   "cell_type": "code",
   "execution_count": 17,
   "metadata": {},
   "outputs": [
    {
     "data": {
      "text/plain": [
       "('10', '--', '0.00', '3.00')"
      ]
     },
     "execution_count": 17,
     "metadata": {},
     "output_type": "execute_result"
    }
   ],
   "source": [
    "nutri_search('coffee')"
   ]
  },
  {
   "cell_type": "code",
   "execution_count": null,
   "metadata": {},
   "outputs": [],
   "source": []
  }
 ],
 "metadata": {
  "kernelspec": {
   "display_name": "Python 3",
   "language": "python",
   "name": "python3"
  },
  "language_info": {
   "codemirror_mode": {
    "name": "ipython",
    "version": 3
   },
   "file_extension": ".py",
   "mimetype": "text/x-python",
   "name": "python",
   "nbconvert_exporter": "python",
   "pygments_lexer": "ipython3",
   "version": "3.7.4"
  }
 },
 "nbformat": 4,
 "nbformat_minor": 2
}
