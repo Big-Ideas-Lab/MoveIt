{
 "cells": [
  {
   "cell_type": "markdown",
   "metadata": {},
   "source": [
    "### Imports"
   ]
  },
  {
   "cell_type": "code",
   "execution_count": 314,
   "metadata": {},
   "outputs": [],
   "source": [
    "import pandas as pd\n",
    "import requests\n",
    "import statistics"
   ]
  },
  {
   "cell_type": "markdown",
   "metadata": {},
   "source": [
    "### Parse JSON"
   ]
  },
  {
   "cell_type": "code",
   "execution_count": 315,
   "metadata": {},
   "outputs": [],
   "source": [
    "#You will need to use your own path + download from Slack, this needs to be updated to take in Christina and Orgil's work. \n",
    "#For now, we will just do local. \n",
    "\n",
    "PATH = 'C:\\\\Users\\\\Owner\\\\Documents\\\\Big Ideas Lab\\\\'"
   ]
  },
  {
   "cell_type": "code",
   "execution_count": 316,
   "metadata": {},
   "outputs": [],
   "source": [
    "# this function uses Python native language to load the json file named \"data\"\n",
    "\n",
    "import json\n",
    "\n",
    "with open(PATH+'restaurant_data.json') as json_file:\n",
    "    data = json.load(json_file)"
   ]
  },
  {
   "cell_type": "markdown",
   "metadata": {},
   "source": [
    "### Function to call USDA for single item nutrition information (Currently -> cal, sugar, fat, carbs)"
   ]
  },
  {
   "cell_type": "code",
   "execution_count": 317,
   "metadata": {},
   "outputs": [],
   "source": [
    "#searching the USDA database based on an individual ingredient.\n",
    "#this function is used below. \n",
    "\n",
    "def nutri_search(menu_item):\n",
    "\n",
    "    #Set search parameters -- find the closest USDA entry that is similar to our ingredient. \n",
    "    \n",
    "    parameters1 = {\n",
    "        'api_key' : 'VaKxcy2ekEwepNcpBmsjNVLQanyrl7WwdacDS5B7',\n",
    "        'q' : '{}'.format(menu_item)\n",
    "    }\n",
    "    \n",
    "    # API call to file the ndbno (an index number that the USDA uses for nutrition information)\n",
    "\n",
    "    response = requests.get('https://api.nal.usda.gov/ndb/search/?format=json', params = parameters1)\n",
    "    JSON = response.json()\n",
    "    ndbno = JSON['list']['item'][0]['ndbno']\n",
    "\n",
    "    #Second set of parameters to call for nutrition information with our new ndbno\n",
    "    \n",
    "    parameters2 = {\n",
    "        'api_key' : 'VaKxcy2ekEwepNcpBmsjNVLQanyrl7WwdacDS5B7',\n",
    "        'nutrients':[\"208\",\"269\",\"204\",\"606\",\"605\",\"205\",\"203\",\"291\",\"307\",\"324\",\"304\",\"431\",\"417\",\"306\",\"324\"], # nutrient_nbr in nutrient.csv\n",
    "        'ndbno' : '{}'.format(ndbno)\n",
    "    }\n",
    "\n",
    "    # Second API call to get nutrition information. In order, we're getting calories, sugars, fats, and carbs\n",
    "    # !!! Let me know if you want other parameters. Options can be found in the USDA download (not the API) under\n",
    "    # nutrient.csv file\n",
    "    \n",
    "    response = requests.get('https://api.nal.usda.gov/ndb/nutrients/?format=json', params = parameters2)\n",
    "    JSON = response.json()\n",
    "    \n",
    "    # cals\n",
    "    cal = JSON['report']['foods'][0]['nutrients'][0]['value']\n",
    "    if cal == '--':\n",
    "        cal = 0\n",
    "    else: \n",
    "        cal=float(cal)\n",
    "    \n",
    "    # macronutrients\n",
    "    sugars = JSON['report']['foods'][0]['nutrients'][1]['value']\n",
    "    if sugars == '--':\n",
    "        sugars = 0\n",
    "    else : \n",
    "        sugars=float(sugars)\n",
    "    totfat = JSON['report']['foods'][0]['nutrients'][2]['value']\n",
    "    if totfat == '--':\n",
    "        totfat = 0\n",
    "    else : \n",
    "        totfat=float(totfat)\n",
    "    satfat = JSON['report']['foods'][0]['nutrients'][3]['value']\n",
    "    if satfat == '--':\n",
    "        satfat = 0\n",
    "    else : \n",
    "        satfat=float(satfat)\n",
    "    transfat = JSON['report']['foods'][0]['nutrients'][4]['value']\n",
    "    if transfat == '--':\n",
    "        transfat = 0\n",
    "    else : \n",
    "        transfat=float(transfat)\n",
    "    carbs = JSON['report']['foods'][0]['nutrients'][5]['value']\n",
    "    if carbs == '--':\n",
    "        carbs = 0\n",
    "    else : \n",
    "        carbs=float(carbs)\n",
    "    protein = JSON['report']['foods'][0]['nutrients'][6]['value']\n",
    "    if protein == '--':\n",
    "        protein = 0\n",
    "    else : \n",
    "        protein=float(protein)\n",
    "    fiber = JSON['report']['foods'][0]['nutrients'][7]['value']\n",
    "    if fiber == '--':\n",
    "        fiber = 0\n",
    "    else : \n",
    "        fiber=float(fiber)\n",
    "    \n",
    "    # minerals\n",
    "    sod = JSON['report']['foods'][0]['nutrients'][8]['value']\n",
    "    if sod == '--':\n",
    "        sod = 0\n",
    "    else : \n",
    "        sod=float(sod)\n",
    "    # o3 = JSON['report']['foods'][0]['nutrients'][9]['value']\n",
    "    mag = JSON['report']['foods'][0]['nutrients'][9]['value']\n",
    "    if mag == '--':\n",
    "        mag = 0\n",
    "    else : \n",
    "        mag=float(mag)\n",
    "    folic = JSON['report']['foods'][0]['nutrients'][10]['value']\n",
    "    if folic == '--':\n",
    "        folic = 0\n",
    "    folate = JSON['report']['foods'][0]['nutrients'][11]['value']\n",
    "    if folate == '--':\n",
    "        folate = 0\n",
    "    folate = float(folic) + float(folate)\n",
    "    potass = JSON['report']['foods'][0]['nutrients'][12]['value']\n",
    "    if potass == '--':\n",
    "        potass = 0\n",
    "    else : \n",
    "        potass=float(potass)\n",
    "    \n",
    "    # vitamins\n",
    "    vd = JSON['report']['foods'][0]['nutrients'][13]['value']\n",
    "    if vd == '--':\n",
    "        vd = 0\n",
    "    else : \n",
    "        vd=float(vd)\n",
    "    \n",
    "    return cal, sugars, totfat, satfat, transfat, carbs, protein, fiber, sod, mag, folate, potass, vd"
   ]
  },
  {
   "cell_type": "markdown",
   "metadata": {},
   "source": [
    "### Search and return all estimated cal, sugars, fats, and carbs for each menu item given retaurant name. "
   ]
  },
  {
   "cell_type": "code",
   "execution_count": 319,
   "metadata": {},
   "outputs": [],
   "source": [
    "#First let's select which restaurant we want from the JSON file. Here I chose the first one in the JSON file (0)\n",
    "\n",
    "restaurant = data['Restaurants'][0]#<--- change this number for different restaurants, right now 0 or 1\n",
    "\n",
    "#Second we run it through a function that converts it to a python dictionary with nutrition info\n",
    "\n",
    "restaurant_dictionary_with_nutrition = create_restaurant_dictionary_from_JSON(restaurant)"
   ]
  },
  {
   "cell_type": "code",
   "execution_count": 320,
   "metadata": {},
   "outputs": [],
   "source": [
    "def create_restaurant_dictionary_from_JSON(restaurant): \n",
    "    \n",
    "    #take menu from JSON file\n",
    "    menu = restaurant['Menu']\n",
    "    #convert to Python-friendly dictionary\n",
    "    rest_dict= dict(menu)\n",
    "    #for each menu item, take an ingredient, call USDA for nutrition info, and add info to dictionary\n",
    "    for menu_item in list(rest_dict.keys()): \n",
    "        ingredients = rest_dict[menu_item]['ingredients']\n",
    "        rest_dict[menu_item]['nutrition'] = {}\n",
    "        for ingredient in ingredients:\n",
    "            rest_dict[menu_item]['nutrition'][ingredient] = {}\n",
    "            rest_dict[menu_item]['nutrition'][ingredient] = nutri_search(ingredient)\n",
    "    #return dictionary\n",
    "    return rest_dict"
   ]
  },
  {
   "cell_type": "markdown",
   "metadata": {},
   "source": [
    "### Nutrition information from return above -> Score it. (Sabrina) "
   ]
  },
  {
   "cell_type": "code",
   "execution_count": 321,
   "metadata": {},
   "outputs": [
    {
     "name": "stdout",
     "output_type": "stream",
     "text": [
      "Mary Ellenâ€™s Chicken Salad\n",
      "{'Mixed greens': (2.0, 0, 1.0, 2.0, 0, 0.0, 3.99, 0, 0, 20.0, 0.0, 0, 0), 'tuna': (0.0, 0, 4.0, 18.0, 0, 12.0, 16.0, 0, 0, 250.0, 460.0, 0, 2.501), 'mayo': (0.0, 0, 0.63, 0.09, 0, 4.93, 1.27, 0, 8.0, 50.0, 95.0, 0, 0.75), 'dill bread': (1.0, 0, 0, 0.1, 0, 0.0, 7.0, 0, 0, 28.0, 164.0, 0, 0)}\n"
     ]
    }
   ],
   "source": [
    "#I'll show an example of how to pull the calories, sugars, fats, and carbs from a menu item in dictionary above\n",
    "\n",
    "#Python doesn't allow for dictionary keys to be iterated unless you turn them into a list first\n",
    "#Take index 0 of the list we just created, which happens to be named ('Freddie's Egg Salad)\n",
    "item = list(restaurant_dictionary_with_nutrition.keys())[2] #<--- change this number for different menu items\n",
    "nutrition_info = restaurant_dictionary_with_nutrition[item]['nutrition']\n",
    "\n",
    "#find dictionary key \"nutrition\" for this item:\n",
    "#return is in order calories, sugars, fats, carbs, protein\n",
    "print(item)\n",
    "print(nutrition_info)"
   ]
  },
  {
   "cell_type": "code",
   "execution_count": 322,
   "metadata": {},
   "outputs": [],
   "source": [
    "# Dictionaries for recommended nutrient amounts by gender\n",
    "recommended_nutrient_dict_M_S = {'cal':2400/3,'sugars':120/3,'totfat':95/3,'satfat':30/3,'transfat':2/3,'carbs':130/3,'protein':56/3,'fiber':38/3,'sod':2300/3,'mag':420/3,'totfolate':400/3,'potass':4700/3,'vd':600/3}\n",
    "recommended_nutrient_dict_M_M = {'cal':2600/3,'sugars':120/3,'totfat':95/3,'satfat':30/3,'transfat':2/3,'carbs':130/3,'protein':56/3,'fiber':38/3,'sod':2300/3,'mag':420/3,'totfolate':400/3,'potass':4700/3,'vd':600/3}\n",
    "recommended_nutrient_dict_M_A = {'cal':2800/3,'sugars':120/3,'totfat':95/3,'satfat':30/3,'transfat':2/3,'carbs':130/3,'protein':56/3,'fiber':38/3,'sod':2300/3,'mag':420/3,'totfolate':400/3,'potass':4700/3,'vd':600/3}\n",
    "\n",
    "recommended_nutrient_dict_F_S = {'cal':1800/3,'sugars':90/3,'totfat':70/3,'satfat':20/3,'transfat':2/3,'carbs':130/3,'protein':46/3,'fiber':25/3,'sod':2300/3,'mag':320/3,'totfolate':400/3,'potass':4700/3,'vd':600/3}\n",
    "recommended_nutrient_dict_F_M = {'cal':2000/3,'sugars':90/3,'totfat':70/3,'satfat':20/3,'transfat':2/3,'carbs':130/3,'protein':46/3,'fiber':25/3,'sod':2300/3,'mag':320/3,'totfolate':400/3,'potass':4700/3,'vd':600/3}\n",
    "recommended_nutrient_dict_F_A = {'cal':2200/3,'sugars':90/3,'totfat':70/3,'satfat':20/3,'transfat':2/3,'carbs':130/3,'protein':46/3,'fiber':25/3,'sod':2300/3,'mag':320/3,'totfolate':400/3,'potass':4700/3,'vd':600/3}"
   ]
  },
  {
   "cell_type": "code",
   "execution_count": null,
   "metadata": {},
   "outputs": [],
   "source": [
    "# For testing, set the gender (female = 1, male = 0), set the activity level\n",
    "gender = 1\n",
    "activity = 0 # 0 = sedentary, 1 = moderately active, 2 = active"
   ]
  },
  {
   "cell_type": "code",
   "execution_count": null,
   "metadata": {},
   "outputs": [],
   "source": [
    "# def calorieScore(nutrition_info):\n",
    "#     recDict = recommended_dict(gender,activity)\n",
    "#     calorie_goal = recDict['cal']\n",
    "#     meal_cals = 0\n",
    "#     for ingredient_key in nutrition_info:\n",
    "#         nutrition_list = list(nutrition_info[ingredient_key])\n",
    "#         cals_in_ingredient = nutrition_list[0]\n",
    "#         meal_cals = meal_cals + float(cals_in_ingredient)\n",
    "#     calScore = meal_cals/calorie_goal\n",
    "#     return calScore"
   ]
  },
  {
   "cell_type": "code",
   "execution_count": null,
   "metadata": {},
   "outputs": [],
   "source": [
    "# this generates the correct dictionary depending on gender and activity\n",
    "def recommended_dict(gender, activity):\n",
    "    if activity == 0:\n",
    "        if gender == 1:\n",
    "            recommended_dict = recommended_nutrient_dict_F_S\n",
    "        if gender == 0:\n",
    "            recommended_dict = recommended_nutrient_dict_M_S\n",
    "    if activity == 1:\n",
    "        if gender == 1:\n",
    "            recommended_dict = recommended_nutrient_dict_F_M\n",
    "        if gender == 0:\n",
    "            recommended_dict = recommended_nutrient_dict_M_M\n",
    "    if activity == 2:\n",
    "        if gender == 1:\n",
    "            recommended_dict = recommended_nutrient_dict_F_A\n",
    "        if gender == 0:\n",
    "            recommended_dict = recommended_nutrient_dict_M_A\n",
    "    return recommended_dict"
   ]
  },
  {
   "cell_type": "code",
   "execution_count": 323,
   "metadata": {},
   "outputs": [],
   "source": [
    "def nutrientScore(nutrition_info):\n",
    "    nbr_nutrients = 13\n",
    "    recDict = recommended_dict(gender,activity)\n",
    "    goal_list=[]\n",
    "    for key in recDict:\n",
    "        goal_list.append(recDict[key])\n",
    "    \n",
    "    nutrient_sum_list=[0]*nbr_nutrients\n",
    "    for ingredient_key in nutrition_info:\n",
    "        nutrition_list = list(nutrition_info[ingredient_key])\n",
    "        for i in range(len(nutrition_list)):\n",
    "            ingredient_nutrient_value = nutrition_list[i]\n",
    "            nutrient_sum_list[i] = nutrient_sum_list[i]+ingredient_nutrient_value\n",
    "    nutrient_fracs=[]\n",
    "    for i in range(len(nutrient_sum_list)):\n",
    "        nutrient_frac = nutrient_sum_list[i]/goal_list[i]\n",
    "        nutrient_fracs.append(nutrient_frac)\n",
    "    \n",
    "    # Scoring\n",
    "    nutrient_scores_adequacy= [None]*nbr_nutrients\n",
    "    nutrient_scores_moderation = [None]*nbr_nutrients\n",
    "    for i in range(len(nutrient_fracs)):\n",
    "        if nutrient_fracs[i] >= 2 :       \n",
    "            nutrient_scores_adequacy[i] = 4\n",
    "            nutrient_scores_moderation[i] = 1\n",
    "        if nutrient_fracs[i] >= 1.25 and nutrient_fracs[i] <2: \n",
    "            nutrient_scores_adequacy[i] = 4\n",
    "            nutrient_scores_moderation[i] = 2\n",
    "        if nutrient_fracs[i] >= 1 and nutrient_fracs[i] <1.25: \n",
    "            nutrient_scores_adequacy[i] = 4\n",
    "            nutrient_scores_moderation[i] = 3\n",
    "        if nutrient_fracs[i] >= .75 and nutrient_fracs[i] <1: \n",
    "            nutrient_scores_adequacy[i] = 3\n",
    "            nutrient_scores_moderation[i] = 4\n",
    "        if nutrient_fracs[i] >= .5 and nutrient_fracs[i] <.75: \n",
    "            nutrient_scores_adequacy[i] = 2\n",
    "            nutrient_scores_moderation[i] = 4\n",
    "        if nutrient_fracs[i] >= 0 and nutrient_fracs[i] <.5: \n",
    "            nutrient_scores_adequacy[i] = 1\n",
    "            nutrient_scores_moderation[i] = 4\n",
    "    adequacy = sum(nutrient_scores_adequacy)/(4*nbr_nutrients)\n",
    "    moderation = sum(nutrient_scores_moderation)/(4*nbr_nutrients)          \n",
    "            \n",
    "    return adequacy, moderation\n",
    "    "
   ]
  },
  {
   "cell_type": "code",
   "execution_count": 324,
   "metadata": {},
   "outputs": [
    {
     "name": "stdout",
     "output_type": "stream",
     "text": [
      "(0.4807692307692308, 0.7884615384615384)\n"
     ]
    }
   ],
   "source": [
    "nutrient_scores=nutrientScore(nutrition_info)\n",
    "print(nutrient_scores)"
   ]
  },
  {
   "cell_type": "code",
   "execution_count": 325,
   "metadata": {},
   "outputs": [],
   "source": [
    "def mealScore():\n",
    "    scores = nutrientScore(nutrition_info)\n",
    "    score_avg = statistics.mean(scores)\n",
    "    return score_avg"
   ]
  },
  {
   "cell_type": "code",
   "execution_count": 326,
   "metadata": {},
   "outputs": [
    {
     "name": "stdout",
     "output_type": "stream",
     "text": [
      "0.6346153846153846\n"
     ]
    }
   ],
   "source": [
    "meal_score=mealScore()\n",
    "print(meal_score)"
   ]
  },
  {
   "cell_type": "code",
   "execution_count": null,
   "metadata": {},
   "outputs": [],
   "source": []
  },
  {
   "cell_type": "code",
   "execution_count": null,
   "metadata": {},
   "outputs": [],
   "source": []
  }
 ],
 "metadata": {
  "kernelspec": {
   "display_name": "Python 3",
   "language": "python",
   "name": "python3"
  },
  "language_info": {
   "codemirror_mode": {
    "name": "ipython",
    "version": 3
   },
   "file_extension": ".py",
   "mimetype": "text/x-python",
   "name": "python",
   "nbconvert_exporter": "python",
   "pygments_lexer": "ipython3",
   "version": "3.7.1"
  }
 },
 "nbformat": 4,
 "nbformat_minor": 2
}
