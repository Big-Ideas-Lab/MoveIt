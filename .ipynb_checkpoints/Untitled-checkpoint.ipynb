{
 "cells": [
  {
   "cell_type": "code",
   "execution_count": 19,
   "metadata": {},
   "outputs": [],
   "source": [
    "import tensorflow as tf\n",
    "from tensorflow import keras\n",
    "import numpy as np\n",
    "from sklearn.preprocessing import StandardScaler\n",
    "import sys\n",
    "import h5py\n",
    "\n",
    "def naive_model():\n",
    "    state_model = keras.Sequential([\n",
    "        keras.layers.Dense(28, input_shape = (5,)),\n",
    "        keras.layers.Dense(28, activation=tf.nn.relu),\n",
    "        keras.layers.Dense(2, activation=tf.nn.softmax)\n",
    "    ]);\n",
    "    state_model.compile(optimizer='adam',\n",
    "                  loss='sparse_categorical_crossentropy',\n",
    "                  metrics=['accuracy'])\n",
    "    return state_model\n",
    "\n",
    "\n",
    "def create_user(preference_mean, preference_sd, distance,step_count,time_of_day,samples): \n",
    "    #create dataset with given standard deviations\n",
    "    params = [(preference_mean,0.2), (preference_sd,.01), (distance, 50), (step_count,400), (time_of_day,100)]\n",
    "    raw_data = np.zeros([samples,len(params)])\n",
    "    labels = np.ones(samples)\n",
    "    for count,param in enumerate(params): \n",
    "        raw_data[:,count] = np.random.normal(param[0], param[1], samples)\n",
    "        counter2 = 0\n",
    "        #if ALL paramters within 1 standard deviation\n",
    "        #respond with 1 \"yes\", else respond with 0 \"no\"\n",
    "\n",
    "        for sample in raw_data[:,count]:\n",
    "            random = np.random.random(1)\n",
    "            if sample > (param[0] + param[1]):\n",
    "                labels[counter2] = 0\n",
    "            if sample < (param[0] - param[1]):\n",
    "                labels[counter2] = 0\n",
    "            if random > .9: \n",
    "                labels[counter2] = 0\n",
    "            counter2 += 1\n",
    "            \n",
    "    data, scaler_un = reshape_scale_data(raw_data,samples)\n",
    "    \n",
    "    return data,labels,scaler_un\n",
    "\n",
    "def reshape_scale_data(raw_input,samples): \n",
    "    scaler = StandardScaler()\n",
    "    scaled_data = scaler.fit_transform(raw_input)\n",
    "    reshaped = scaled_data.reshape(samples,5)\n",
    "    return reshaped, scaler\n",
    "\n",
    "u1data,u1labels,u1scaler = create_user(1,.01,150,1200,1300,2000)\n",
    "u1_state_model = naive_model()\n",
    "u1_state_model.fit(u1data, u1labels, epochs=200, verbose = 0)\n",
    "\n",
    "\n",
    "u1_state_model.save(sys.path[0]+'/model_saved',)"
   ]
  },
  {
   "cell_type": "code",
   "execution_count": null,
   "metadata": {},
   "outputs": [],
   "source": []
  }
 ],
 "metadata": {
  "kernelspec": {
   "display_name": "Python 3",
   "language": "python",
   "name": "python3"
  },
  "language_info": {
   "codemirror_mode": {
    "name": "ipython",
    "version": 3
   },
   "file_extension": ".py",
   "mimetype": "text/x-python",
   "name": "python",
   "nbconvert_exporter": "python",
   "pygments_lexer": "ipython3",
   "version": "3.7.4"
  }
 },
 "nbformat": 4,
 "nbformat_minor": 2
}
