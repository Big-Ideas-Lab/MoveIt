{
 "cells": [
  {
   "cell_type": "code",
   "execution_count": 2,
   "metadata": {},
   "outputs": [],
   "source": [
    "from __future__ import absolute_import, division, print_function, unicode_literals\n",
    "import gensim\n",
    "import numpy as np\n",
    "from sklearn.preprocessing import StandardScaler\n",
    "import matplotlib.pyplot as plt\n",
    "import tensorflow as tf\n",
    "from tensorflow import keras\n",
    "from sklearn.preprocessing import MinMaxScaler\n",
    "from sklearn.model_selection import train_test_split\n",
    "import pandas as pd\n",
    "from sklearn.decomposition import PCA"
   ]
  },
  {
   "cell_type": "code",
   "execution_count": 3,
   "metadata": {},
   "outputs": [],
   "source": [
    "nlp_model = gensim.models.KeyedVectors.load_word2vec_format('/Users/joshuadarcy/Desktop/GoogleNews-vectors-negative300.bin', binary = True)"
   ]
  },
  {
   "cell_type": "markdown",
   "metadata": {},
   "source": [
    "### Create Food Preferences"
   ]
  },
  {
   "cell_type": "code",
   "execution_count": 22,
   "metadata": {},
   "outputs": [],
   "source": [
    "#User 1 Liked items\n",
    "u1l = ['spinach','bread','mushrooms','walnut', 'chicken', 'pecans', 'cheeseburger', 'steak']\n",
    "\n",
    "#User 2 Liked items\n",
    "u2l = ['fries','ranch','steak','milk', 'turkey', 'milkshake','fried']\n",
    "\n",
    "#Make them opposite\n",
    "u2d = u1l\n",
    "u1d = u2l\n",
    "\n",
    "#Get word vectors for user1 preferences, create labels\n",
    "u1l = [nlp_model.get_vector(pref) for pref in u1l]\n",
    "u1l_labels = np.ones(len(u1l))\n",
    "\n",
    "#Same for user2\n",
    "u2l = [nlp_model.get_vector(pref) for pref in u2l]\n",
    "u2l_labels = np.ones(len(u2l))\n",
    "\n",
    "#Make them opposite\n",
    "u1d = u2l\n",
    "u2d = u1l"
   ]
  },
  {
   "cell_type": "code",
   "execution_count": 23,
   "metadata": {},
   "outputs": [],
   "source": [
    "#Construct User 1 Training\n",
    "\n",
    "user1_training_data = np.concatenate((u1l,u1d))\n",
    "user1_training_data = user1_training_data.reshape(-1,1,300)\n",
    "user1_training_labels = np.concatenate((np.zeros(len(u1l)),np.ones(len(u1d))))"
   ]
  },
  {
   "cell_type": "code",
   "execution_count": 24,
   "metadata": {},
   "outputs": [],
   "source": [
    "#Construct User 2 Training\n",
    "\n",
    "user2_training_data = np.concatenate((u2l,u2d))\n",
    "user2_training_data = user2_training_data.reshape(-1,1,300)\n",
    "user2_training_labels = np.concatenate((np.zeros(len(u2l)),np.ones(len(u2d))))"
   ]
  },
  {
   "cell_type": "markdown",
   "metadata": {},
   "source": [
    "### Train & Compare Food Preference Model"
   ]
  },
  {
   "cell_type": "code",
   "execution_count": 25,
   "metadata": {},
   "outputs": [],
   "source": [
    "#Build and Run for both\n",
    "\n",
    "u1_model = construct_run(user1_training_data, user1_training_labels)\n",
    "u2_model = construct_run(user2_training_data, user2_training_labels)"
   ]
  },
  {
   "cell_type": "code",
   "execution_count": 28,
   "metadata": {},
   "outputs": [
    {
     "name": "stdout",
     "output_type": "stream",
     "text": [
      "User 1 estimated probability of enjoying peas is 100%\n",
      "User 2 estimated robability of enjoying peas is 0%\n"
     ]
    }
   ],
   "source": [
    "compare_models(u1_model,u2_model,'peas')"
   ]
  },
  {
   "cell_type": "markdown",
   "metadata": {},
   "source": [
    "### Create State Preferences"
   ]
  },
  {
   "cell_type": "code",
   "execution_count": 29,
   "metadata": {},
   "outputs": [],
   "source": [
    "u1data,u1labels,u1scaler = create_user(1,.01,150,1200,1300,2000)\n",
    "u2data,u2labels,u2scaler = create_user(1,.01,100,800,1600,2000)"
   ]
  },
  {
   "cell_type": "markdown",
   "metadata": {},
   "source": [
    "### Train State Model"
   ]
  },
  {
   "cell_type": "code",
   "execution_count": 30,
   "metadata": {},
   "outputs": [
    {
     "data": {
      "text/plain": [
       "<tensorflow.python.keras.callbacks.History at 0x2247a4810>"
      ]
     },
     "execution_count": 30,
     "metadata": {},
     "output_type": "execute_result"
    }
   ],
   "source": [
    "u1_state_model = naive_model()\n",
    "u1_state_model.fit(u1data, u1labels, epochs=200, verbose = 0)\n",
    "\n",
    "u2_state_model = naive_model()\n",
    "u2_state_model.fit(u2data, u2labels, epochs=200, verbose = 0)"
   ]
  },
  {
   "cell_type": "markdown",
   "metadata": {},
   "source": [
    "### Test Individual Scenarios"
   ]
  },
  {
   "cell_type": "code",
   "execution_count": 31,
   "metadata": {},
   "outputs": [
    {
     "name": "stdout",
     "output_type": "stream",
     "text": [
      "[0.9999181032180786, 0.01, 150, 1200, 1300]\n",
      "Estimated chance of user compliance is 97%\n"
     ]
    }
   ],
   "source": [
    "food = ['kale','bread']\n",
    "input_vec = create_scenario_vector(food,u1_model,u1scaler,150,1200,1300)\n",
    "test_input(input_vec, u1_state_model)"
   ]
  },
  {
   "cell_type": "code",
   "execution_count": 32,
   "metadata": {},
   "outputs": [
    {
     "name": "stdout",
     "output_type": "stream",
     "text": [
      "[0.9999406933784485, 0.01, 100, 800, 1600]\n",
      "Estimated chance of user compliance is 99%\n"
     ]
    }
   ],
   "source": [
    "food = ['fries','turkey']\n",
    "input_vec = create_scenario_vector(food,u2_model,u2scaler, 100,800,1600)\n",
    "test_input(input_vec, u2_state_model)"
   ]
  },
  {
   "cell_type": "markdown",
   "metadata": {},
   "source": [
    "### Arbitrarily Create 1 Million Scenarios, Choose Top 20 for Each User"
   ]
  },
  {
   "cell_type": "code",
   "execution_count": 33,
   "metadata": {},
   "outputs": [],
   "source": [
    "test_data = create_test(1,.01, 125, 1000, 1450, 1000000)\n",
    "scaled_u1 = u1scaler.transform(test_data)\n",
    "scaled_u2 = u2scaler.transform(test_data)"
   ]
  },
  {
   "cell_type": "code",
   "execution_count": 34,
   "metadata": {},
   "outputs": [],
   "source": [
    "array_1 = np.array(u1_state_model.predict(scaled_u1)).T[1]\n",
    "array_2 = np.array(u2_state_model.predict(scaled_u2)).T[1]"
   ]
  },
  {
   "cell_type": "code",
   "execution_count": 35,
   "metadata": {},
   "outputs": [],
   "source": [
    "index1 = np.argsort(-array_1)[0:20]\n",
    "index2 = np.argsort(-array_2)[0:20]"
   ]
  },
  {
   "cell_type": "code",
   "execution_count": 36,
   "metadata": {},
   "outputs": [],
   "source": [
    "best_20_u1 = return_to_original(u1scaler,scaled_u1,index1)\n",
    "best_20_u2 = return_to_original(u2scaler,scaled_u2,index2)"
   ]
  },
  {
   "cell_type": "code",
   "execution_count": 37,
   "metadata": {},
   "outputs": [],
   "source": [
    "x = np.concatenate((best_20_u1, best_20_u2))"
   ]
  },
  {
   "cell_type": "code",
   "execution_count": 38,
   "metadata": {},
   "outputs": [
    {
     "data": {
      "image/png": "[encoded data removed]",
      "text/plain": [
       "<Figure size 576x576 with 1 Axes>"
      ]
     },
     "metadata": {
      "needs_background": "light"
     },
     "output_type": "display_data"
    }
   ],
   "source": [
    "pca = PCA(n_components=2)\n",
    "principalComponents = pca.fit_transform(x)\n",
    "principalDf = pd.DataFrame(data = principalComponents, columns = ['principal component 1', 'principal component 2'])\n",
    "label_array = np.concatenate((np.ones(20),2*np.ones(20)))\n",
    "labels = pd.DataFrame(label_array,columns = ['Label'])\n",
    "finalDf = pd.concat([principalDf, labels], axis = 1)\n",
    "\n",
    "fig = plt.figure(figsize = (8,8))\n",
    "ax = fig.add_subplot(1,1,1) \n",
    "ax.set_xlabel('Principal Component 1', fontsize = 15)\n",
    "ax.set_ylabel('Principal Component 2', fontsize = 15)\n",
    "ax.set_title('PCA (2)', fontsize = 20)\n",
    "targets = [1.0, 2.0]\n",
    "colors = ['r', 'b']\n",
    "for target, color in zip(targets,colors):\n",
    "    indicesToKeep = finalDf['Label'] == target\n",
    "    ax.scatter(finalDf.loc[indicesToKeep, 'principal component 1']\n",
    "               , finalDf.loc[indicesToKeep, 'principal component 2']\n",
    "               , c = color\n",
    "               , s = 50)\n",
    "\n",
    "stringed = ['User {}'.format(target)[0:6] for target in targets]\n",
    "ax.legend(stringed)\n",
    "ax.grid()"
   ]
  },
  {
   "cell_type": "markdown",
   "metadata": {},
   "source": [
    "### Functions"
   ]
  },
  {
   "cell_type": "code",
   "execution_count": 8,
   "metadata": {},
   "outputs": [],
   "source": [
    "def construct_run(training_data,labels):\n",
    "    #general model, architecture can be further refined later for opimization\n",
    "    model = keras.Sequential([\n",
    "        keras.layers.Dense(128, input_shape = (1,300)),\n",
    "        keras.layers.Dense(128, activation=tf.nn.relu),\n",
    "        keras.layers.Dense(2, activation=tf.nn.softmax)\n",
    "    ]);\n",
    "    #compile using sparse_cat & adam\n",
    "    model.compile(optimizer='adam',\n",
    "                  loss='sparse_categorical_crossentropy',\n",
    "                  metrics=['accuracy'])\n",
    "    #train model using 500 epochs, can be changed later. Verbose = 0 for demo.\n",
    "    model.fit(training_data, labels, epochs=500, verbose = 0)\n",
    "    return model\n",
    "\n",
    "def compare_models(model1,model2,keyword): \n",
    "    prediction1 = model1.predict(nlp_model.get_vector(keyword).reshape(1,1,300))[0][0][0]\n",
    "    rounded1 = int(100* round(prediction1, 2))\n",
    "    prediction2 = model2.predict(nlp_model.get_vector(keyword).reshape(1,1,300))[0][0][0]\n",
    "    rounded2 = int(100* round(prediction2, 2))\n",
    "    print(\"User 1 estimated probability of enjoying {0} is {1}%\\nUser 2 estimated robability of enjoying {0} is {2}%\".format(keyword,rounded1,rounded2))\n",
    "    \n",
    "def reshape_scale_data(raw_input,samples): \n",
    "    scaler = StandardScaler()\n",
    "    scaled_data = scaler.fit_transform(raw_input)\n",
    "    reshaped = scaled_data.reshape(samples,5)\n",
    "    return reshaped, scaler\n",
    "\n",
    "def create_user(preference_mean, preference_sd, distance,step_count,time_of_day,samples): \n",
    "    #create dataset with given standard deviations\n",
    "    params = [(preference_mean,0.2), (preference_sd,.01), (distance, 50), (step_count,400), (time_of_day,100)]\n",
    "    raw_data = np.zeros([samples,len(params)])\n",
    "    labels = np.ones(samples)\n",
    "    for count,param in enumerate(params): \n",
    "        raw_data[:,count] = np.random.normal(param[0], param[1], samples)\n",
    "        counter2 = 0\n",
    "        #if ALL paramters within 1 standard deviation\n",
    "        #respond with 1 \"yes\", else respond with 0 \"no\"\n",
    "\n",
    "        for sample in raw_data[:,count]:\n",
    "            random = np.random.random(1)\n",
    "            if sample > (param[0] + param[1]):\n",
    "                labels[counter2] = 0\n",
    "            if sample < (param[0] - param[1]):\n",
    "                labels[counter2] = 0\n",
    "            if random > .9: \n",
    "                labels[counter2] = 0\n",
    "            counter2 += 1\n",
    "            \n",
    "    data, scaler_un = reshape_scale_data(raw_data,samples)\n",
    "    \n",
    "    return data,labels,scaler_un\n",
    "\n",
    "def naive_model():\n",
    "    state_model = keras.Sequential([\n",
    "        keras.layers.Dense(28, input_shape = (5,)),\n",
    "        keras.layers.Dense(28, activation=tf.nn.relu),\n",
    "        keras.layers.Dense(2, activation=tf.nn.softmax)\n",
    "    ]);\n",
    "    state_model.compile(optimizer='adam',\n",
    "                  loss='sparse_categorical_crossentropy',\n",
    "                  metrics=['accuracy'])\n",
    "    return state_model\n",
    "\n",
    "def create_scenario_vector(menu_item, fp_model, scaler_0, distance, steps, time): \n",
    "    fp = []\n",
    "    for ingredient in menu_item: \n",
    "        prediction = fp_model.predict(nlp_model.get_vector(ingredient).reshape(1,1,300))[0][0][0]\n",
    "        fp.append(prediction)\n",
    "    \n",
    "    fp_avg = sum(fp) / len(fp)\n",
    "    fp_std = .01\n",
    "    input_array = [fp_avg, fp_std, distance, steps, time]\n",
    "    print(input_array)\n",
    "    reshaped = np.array(input_array).reshape(-1,5)\n",
    "    scaled = scaler_0.transform(reshaped)\n",
    "    return scaled\n",
    "\n",
    "def test_input(input_vector, state_model): \n",
    "    estimate = state_model.predict(input_vec)[0][1]\n",
    "    rounded = int(100 * round(estimate,2))\n",
    "    print(\"Estimated chance of user compliance is {}%\".format(rounded))\n",
    "\n",
    "def create_test(preference_mean, preference_sd, distance,step_count,time_of_day,samples): \n",
    "\n",
    "    #create dataset with given standard deviations\n",
    "    params = [(preference_mean,0.5), (preference_sd,.05), (distance, 400), (step_count,400), (time_of_day,300)]\n",
    "    raw_data = np.zeros([samples,len(params)])\n",
    "\n",
    "    for count,param in enumerate(params): \n",
    "        raw_data[:,count] = np.random.normal(param[0], param[1], samples)\n",
    "    return raw_data\n",
    "\n",
    "def return_to_original(scaler,scaled,index_array):\n",
    "    ret = []\n",
    "    for index in index_array: \n",
    "        ret.append(scaler.inverse_transform(scaled[index]))\n",
    "    return ret"
   ]
  },
  {
   "cell_type": "code",
   "execution_count": null,
   "metadata": {},
   "outputs": [],
   "source": []
  }
 ],
 "metadata": {
  "kernelspec": {
   "display_name": "Python 3",
   "language": "python",
   "name": "python3"
  },
  "language_info": {
   "codemirror_mode": {
    "name": "ipython",
    "version": 3
   },
   "file_extension": ".py",
   "mimetype": "text/x-python",
   "name": "python",
   "nbconvert_exporter": "python",
   "pygments_lexer": "ipython3",
   "version": "3.7.4"
  }
 },
 "nbformat": 4,
 "nbformat_minor": 2
}
