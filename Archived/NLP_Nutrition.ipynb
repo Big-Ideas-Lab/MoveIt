{
 "cells": [
  {
   "cell_type": "code",
   "execution_count": 19,
   "metadata": {},
   "outputs": [],
   "source": [
    "import pandas as pd\n",
    "import numpy as np\n",
    "import gensim\n",
    "from scipy import spatial"
   ]
  },
  {
   "cell_type": "code",
   "execution_count": null,
   "metadata": {},
   "outputs": [
    {
     "name": "stdout",
     "output_type": "stream",
     "text": [
      "Loading NLP Model...\n"
     ]
    }
   ],
   "source": [
    "def query_tree(string,df): \n",
    "    word_array = string.split()\n",
    "    single_vector = np.zeros(300)\n",
    "    \n",
    "    for word in word_array: \n",
    "        try:\n",
    "            single_vector += nlp_model.get_vector(word)\n",
    "        except:\n",
    "            continue\n",
    "    nutrients = ['nf_calories',\n",
    "     'nf_cholesterol',\n",
    "     'nf_dietary_fiber',\n",
    "     'nf_p',\n",
    "     'nf_potassium',\n",
    "     'nf_protein',\n",
    "     'nf_saturated_fat',\n",
    "     'nf_sodium',\n",
    "     'nf_sugars',\n",
    "     'nf_total_carbohydrate',\n",
    "     'nf_total_fat',\n",
    "     'nf_total_saturated_fat',\n",
    "     'nf_calcium_dv',\n",
    "     'nf_mg']\n",
    "    \n",
    "    metric, location = tree.query(single_vector)\n",
    "    row = df.iloc[location]\n",
    "    print('Match Distance = {0}, Name = {1}'.format(metric, row['food_name']))\n",
    "    for nutrient in nutrients: \n",
    "        print('{0}: {1}'.format(nutrient,row[nutrient]))\n",
    "        \n",
    "    try:\n",
    "        cal = row['nf_calories']\n",
    "    except:\n",
    "        cal = 0\n",
    "    try:\n",
    "        sugars = row['nf_sugars']\n",
    "    except:\n",
    "        sugars = 0\n",
    "    try:\n",
    "        totfat = row['nf_total_fat']\n",
    "    except: \n",
    "        totfat = 0\n",
    "    try:\n",
    "        unsatfat = row['nf_total_fat'] - row['nf_saturated_fat']\n",
    "    except: \n",
    "        unsatfat = 0\n",
    "    try:\n",
    "        satfat = row['nf_saturated_fat']\n",
    "    except: \n",
    "        satfat = 0\n",
    "    try:\n",
    "        transfat = row['nf_total_fat'] - row['nf_saturated_fat']\n",
    "    except: \n",
    "        transfat = 0\n",
    "    try:\n",
    "        carbs = row['nf_total_carbohydrate']\n",
    "    except: \n",
    "        carbs = 0\n",
    "    try:\n",
    "        protein = row['nf_protein']\n",
    "    except: \n",
    "        protein = 0\n",
    "    try:\n",
    "        fiber = row['nf_dietary_fiber']\n",
    "    except: \n",
    "        fiber = 0\n",
    "    try:\n",
    "        sod = row['nf_sodium']\n",
    "    except:\n",
    "        sod = 0\n",
    "    try:\n",
    "        mag = row['nf_mg']\n",
    "    except: \n",
    "        mag = 0\n",
    "    try:\n",
    "        folate = 0\n",
    "    except: \n",
    "        folate = 0\n",
    "    try:\n",
    "        potass = row['nf_potassium']\n",
    "    except: \n",
    "        potass = 0\n",
    "    try:\n",
    "        vd = 0\n",
    "    except: \n",
    "        vd = 0\n",
    "    \n",
    "    nutri_dict={'cal':cal,'sugars':sugars,'totfat':totfat,'unsatfat':unsatfat,'satfat':satfat,'transfat':transfat,'carbs':carbs,'protein':protein,'fiber':fiber,'sod':sod,'mag':mag,'totfolate':folate,'potass':potass,'vd':vd}\n",
    "\n",
    "def word2vec_func(string):\n",
    "    word_array = string.split()\n",
    "    single_vector = np.zeros(300)\n",
    "    for word in word_array:\n",
    "        try:\n",
    "            single_vector += nlp_model.get_vector(word)\n",
    "        except:\n",
    "            continue\n",
    "    return single_vector\n",
    "\n",
    "print(\"Loading NLP Model...\")\n",
    "nlp_model = gensim.models.KeyedVectors.load_word2vec_format('/Users/joshuadarcy/Desktop/GoogleNews-vectors-negative300.bin', binary = True)\n",
    "print(\"Done.\")\n",
    "print(\"Building Tree...\")\n",
    "df = pd.read_csv('/Users/joshuadarcy/Desktop/foods.csv')\n",
    "df['vector'] = df.apply(lambda x: word2vec_func(x['food_name']),axis=1)\n",
    "nump_array = np.array(df['vector'])\n",
    "concat = np.concatenate(nump_array)\n",
    "reshaped = concat.reshape(-1,300)\n",
    "tree = spatial.KDTree(reshaped)\n",
    "print(\"Done.\")"
   ]
  },
  {
   "cell_type": "code",
   "execution_count": 8,
   "metadata": {},
   "outputs": [],
   "source": []
  },
  {
   "cell_type": "code",
   "execution_count": 76,
   "metadata": {},
   "outputs": [],
   "source": [
    "strings = []\n",
    "for column in df.columns: \n",
    "    if 'nf' in column: \n",
    "        strings.append(column)"
   ]
  },
  {
   "cell_type": "code",
   "execution_count": 77,
   "metadata": {},
   "outputs": [
    {
     "data": {
      "text/plain": [
       "['nf_calories',\n",
       " 'nf_cholesterol',\n",
       " 'nf_dietary_fiber',\n",
       " 'nf_p',\n",
       " 'nf_potassium',\n",
       " 'nf_protein',\n",
       " 'nf_saturated_fat',\n",
       " 'nf_sodium',\n",
       " 'nf_sugars',\n",
       " 'nf_total_carbohydrate',\n",
       " 'nf_total_fat',\n",
       " 'nf_total_saturated_fat',\n",
       " 'nf_calcium_dv',\n",
       " 'nf_mg']"
      ]
     },
     "execution_count": 77,
     "metadata": {},
     "output_type": "execute_result"
    }
   ],
   "source": [
    "strings"
   ]
  },
  {
   "cell_type": "code",
   "execution_count": 8,
   "metadata": {},
   "outputs": [],
   "source": [
    "nump_array = np.array(df['vector'])"
   ]
  },
  {
   "cell_type": "code",
   "execution_count": 37,
   "metadata": {},
   "outputs": [],
   "source": [
    "from scipy import spatial\n",
    "tree = spatial.KDTree(reshaped)"
   ]
  },
  {
   "cell_type": "markdown",
   "metadata": {},
   "source": [
    "# Test"
   ]
  },
  {
   "cell_type": "code",
   "execution_count": 21,
   "metadata": {},
   "outputs": [
    {
     "name": "stdout",
     "output_type": "stream",
     "text": [
      "Match Distance = 3.1611825740228645, Name = chicken salad wrap\n",
      "nf_calories: 498.19\n",
      "nf_cholesterol: 63.94\n",
      "nf_dietary_fiber: 3.7\n",
      "nf_p: 253.85\n",
      "nf_potassium: 442.83\n",
      "nf_protein: 26.05\n",
      "nf_saturated_fat: 5.36\n",
      "nf_sodium: 574.27\n",
      "nf_sugars: 3.53\n",
      "nf_total_carbohydrate: 45.42\n",
      "nf_total_fat: 23.04\n",
      "nf_total_saturated_fat: nan\n",
      "nf_calcium_dv: 57.0\n",
      "nf_mg: 44.0\n"
     ]
    }
   ],
   "source": [
    "query_tree('grilled chicken salad with apples, walnuts, and pecans', df)"
   ]
  },
  {
   "cell_type": "code",
   "execution_count": null,
   "metadata": {},
   "outputs": [],
   "source": []
  },
  {
   "cell_type": "code",
   "execution_count": null,
   "metadata": {},
   "outputs": [],
   "source": []
  }
 ],
 "metadata": {
  "kernelspec": {
   "display_name": "Python 3",
   "language": "python",
   "name": "python3"
  },
  "language_info": {
   "codemirror_mode": {
    "name": "ipython",
    "version": 3
   },
   "file_extension": ".py",
   "mimetype": "text/x-python",
   "name": "python",
   "nbconvert_exporter": "python",
   "pygments_lexer": "ipython3",
   "version": "3.7.4"
  }
 },
 "nbformat": 4,
 "nbformat_minor": 2
}
